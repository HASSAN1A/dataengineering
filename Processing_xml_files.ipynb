{
  "nbformat": 4,
  "nbformat_minor": 0,
  "metadata": {
    "interpreter": {
      "hash": "f057f675914b11b512bf379bae07be6e1618e8fe1362d0973cc146d2f4f584aa"
    },
    "kernelspec": {
      "display_name": "Python 3.7.6 64-bit ('base': conda)",
      "name": "python3"
    },
    "language_info": {
      "codemirror_mode": {
        "name": "ipython",
        "version": 3
      },
      "file_extension": ".py",
      "mimetype": "text/x-python",
      "name": "python",
      "nbconvert_exporter": "python",
      "pygments_lexer": "ipython3",
      "version": "3.7.6"
    },
    "metadata": {
      "interpreter": {
        "hash": "f057f675914b11b512bf379bae07be6e1618e8fe1362d0973cc146d2f4f584aa"
      }
    },
    "colab": {
      "provenance": [],
      "toc_visible": true,
      "include_colab_link": true
    }
  },
  "cells": [
    {
      "cell_type": "markdown",
      "metadata": {
        "id": "view-in-github",
        "colab_type": "text"
      },
      "source": [
        "<a href=\"https://colab.research.google.com/github/HASSAN1A/dataengineering/blob/main/Processing_xml_files.ipynb\" target=\"_parent\"><img src=\"https://colab.research.google.com/assets/colab-badge.svg\" alt=\"Open In Colab\"/></a>"
      ]
    },
    {
      "cell_type": "markdown",
      "metadata": {
        "id": "pn4eWWs5g2SC"
      },
      "source": [
        "<a href=\"https://colab.research.google.com/drive/1K5OnHOwcMvJpSj0nTnwJdfyOociyxxoD?usp=sharing#forceEdit=true&sandboxMode=true\" target=\"_parent\"><img src=\"https://colab.research.google.com/assets/colab-badge.svg\" alt=\"Open In Colab\"/></a>"
      ]
    },
    {
      "cell_type": "markdown",
      "metadata": {
        "id": "WVDexKPIgMCZ"
      },
      "source": [
        "# Processing XML Files \n",
        "© Explore Data Science Academy\n",
        "\n",
        "## Learning Objectives\n",
        "For this exercise, you will learn how to:\n",
        "\n",
        "* Extract data from an XML file; and\n",
        "* Organise the data into a tabular format.\n",
        "\n",
        "## Introduction\n",
        "\n",
        "The Extensible Markdown Language, often referred to as just XML, allows us to separate data from its format. All the data that is found in an XML file is encapsulated in a hierarchical manner using XML tags. The XML tags used in the file can be self-defined, and as a result, we are able to create descriptive tags that suit our application. If you've done a bit of web development, you'll notice that the structure of the file reads like an HTML file. Do not be confused by the two, HTML defines how data is displayed on a web page, whereas XML allows us to store data regardless of how it will be presented.\n",
        "\n",
        "<div align=\"center\" style=\"width: 600px; font-size: 80%; text-align: center; margin: 0 auto\">\n",
        "<img src=\"https://github.com/Explore-AI/Pictures/blob/618e7823745c03f6fac634a49c8e4d04201d60e5/XML_Screenshot.png?raw=true\"\n",
        "     alt=\"Sample XML\"\n",
        "     style=\"float: center; padding-bottom=0.5em\"\n",
        "     width=600px/>\n",
        "     <br>\n",
        "     Figure 1: Contents of XML file\n",
        "</div>\n",
        "\n",
        "For this exercise, we'll walk through the process of extracting data from an XML file using the `ElementTree` library and transforming it into a tabular structure.\n",
        "\n"
      ]
    },
    {
      "cell_type": "markdown",
      "metadata": {
        "id": "hrAer0pBgMCc"
      },
      "source": [
        "## Import Libraries\n",
        "\n",
        "First, we import the two libraries that will aid in extracting the XML data. For this exercise, we will make use of the `Pandas` and `ElementTree` libraries."
      ]
    },
    {
      "cell_type": "code",
      "metadata": {
        "id": "C8cDOpRagMCc"
      },
      "source": [
        "import pandas as pd\n",
        "import xml.etree.ElementTree as ET\n",
        "import urllib"
      ],
      "execution_count": null,
      "outputs": []
    },
    {
      "cell_type": "markdown",
      "metadata": {
        "id": "TUiSL8y-gMCd"
      },
      "source": [
        "## Import and Investigate XML\n",
        "\n",
        "We will now load a sample XML file containing a catalog of books. Each book in the catalog will contain the following attributes:\n",
        "\n",
        "<table style ='width:80%'>\n",
        "    <tr>\n",
        "        <th style ='text-align:left'>Attributes</th>\n",
        "        <th style ='text-align:left'>Description</th>\n",
        "    </tr>\n",
        "    <tr>\n",
        "        <td style ='text-align:left'>id</td>\n",
        "        <td style ='text-align:left'>Unique ID for each book in the catalog</td>\n",
        "    </tr>\n",
        "    <tr>\n",
        "        <td style ='text-align:left'>author</td>\n",
        "        <td style ='text-align:left'>Name of the person who wrote the book</td>\n",
        "    </tr>\n",
        "    <tr>\n",
        "        <td style ='text-align:left'>title</td>\n",
        "        <td style ='text-align:left'>Title found on the book's cover</td>\n",
        "    </tr>\n",
        "    <tr>\n",
        "        <td style ='text-align:left'>genre</td>\n",
        "        <td style ='text-align:left'>Literature category that the book belongs to</td>\n",
        "    </tr>\n",
        "    <tr>\n",
        "        <td style ='text-align:left'>price</td>\n",
        "        <td style ='text-align:left'>The price at which the book is being sold</td>\n",
        "    </tr>\n",
        "    <tr>\n",
        "        <td style ='text-align:left'>publish_date</td>\n",
        "        <td style ='text-align:left'>Publication date of the book</td>\n",
        "    </tr>\n",
        "    <tr>\n",
        "        <td style ='text-align:left' >description</td>\n",
        "        <td style ='text-align:left'>A short description of the book</td>\n",
        "    </tr>\n",
        "     \n",
        "</table>\n",
        "\n",
        "The sample file is located in the `Explore-AI/Public-Data` repository. We will first download it and proceed to work with the local copy."
      ]
    },
    {
      "cell_type": "code",
      "metadata": {
        "id": "9o11fVzGgMCe"
      },
      "source": [
        "# Load the dataset from the github repo\n",
        "xml_file = urllib.request.urlretrieve(\"https://raw.githubusercontent.com/Explore-AI/Public-Data/master/books.xml\",\"books.xml\")\n",
        "# Next input the path to where you have the books.xml file saved locally - the above step will have downloaded the data into your current working directory.\n",
        "file_path = \"books.xml\""
      ],
      "execution_count": null,
      "outputs": []
    },
    {
      "cell_type": "markdown",
      "metadata": {
        "id": "hsZ1Ih5RgMCe"
      },
      "source": [
        "To work with the XML file, we first need to parse it so that a tree data structure is used to store the contents of the file in a hierarchical manner. To do this we'll make use of the `ET.parse()` function call."
      ]
    },
    {
      "cell_type": "code",
      "metadata": {
        "id": "-GxD8T12gMCf"
      },
      "source": [
        "xtree = ET.parse(file_path)"
      ],
      "execution_count": null,
      "outputs": []
    },
    {
      "cell_type": "markdown",
      "metadata": {
        "id": "WddEXC4BgMCf"
      },
      "source": [
        "After parsing the XML file, a tree object (also referred to as an Element Tree) is created in memory. It is called an Element Tree because each node in the tree is referred to as an element."
      ]
    },
    {
      "cell_type": "code",
      "metadata": {
        "scrolled": true,
        "id": "ItOoYxYygMCg",
        "outputId": "2160833d-93db-465d-8009-35efc1c8af99"
      },
      "source": [
        "# Print the tree object to view it's location in memory\n",
        "print('Object:\\t\\t', xtree)\n",
        "\n",
        "# Print the data type of the newly created object.\n",
        "print('Data type:\\t', type(xtree))"
      ],
      "execution_count": null,
      "outputs": [
        {
          "name": "stdout",
          "output_type": "stream",
          "text": [
            "Object:\t\t <xml.etree.ElementTree.ElementTree object at 0x7f58fc3750d0>\n",
            "Data type:\t <class 'xml.etree.ElementTree.ElementTree'>\n"
          ]
        }
      ]
    },
    {
      "cell_type": "markdown",
      "metadata": {
        "id": "BGMvKb9EgMCi"
      },
      "source": [
        "Once we have instantiated the `xtree` object, we can start working with the object by starting at the root of the tree data structure so we can move through the different levels of information. Looking at the XML file, we can notice that the highest level in the hierarchy is `catalog` - this is where the root will point to. Let's have a look at the example below."
      ]
    },
    {
      "cell_type": "code",
      "metadata": {
        "scrolled": true,
        "id": "hDmkVWxEgMCi",
        "outputId": "0aa35d82-df49-4c36-e7c3-9c18a7c1c73d"
      },
      "source": [
        "# Obtain the root of the element tree\n",
        "xroot = xtree.getroot()\n",
        "\n",
        "# Print the element object to view it's location in memory\n",
        "print('Object:\\t\\t', xroot)\n",
        "\n",
        "# Print the data type associated to xroot\n",
        "print('Data type:\\t', type(xroot))\n",
        "\n",
        "# Print the xml tag associated with the root element\n",
        "print ('XML Tag:\\t', xroot.tag)"
      ],
      "execution_count": null,
      "outputs": [
        {
          "name": "stdout",
          "output_type": "stream",
          "text": [
            "Object:\t\t <Element 'catalog' at 0x7f58fc37e0b0>\n",
            "Data type:\t <class 'xml.etree.ElementTree.Element'>\n",
            "XML Tag:\t catalog\n"
          ]
        }
      ]
    },
    {
      "cell_type": "markdown",
      "metadata": {
        "id": "s890UaVRgMCj"
      },
      "source": [
        "We will now iterate through the `xroot` object to view all the child elements that exist. As it stands, the Element Tree will contain three levels. \n",
        "\n",
        "<div align=\"center\" style=\"font-size: 80%; text-align: center; margin: 0 auto\">\n",
        "<img src=\"https://github.com/Explore-AI/Pictures/blob/febc1a2c79982f44b09cb4ea5ec626c6bb3491c9/data_engineering/load/data_piplines_overview/ElementTree.jpg?raw=true\"\n",
        "     alt=\"Element Tree Hierarchy\"\n",
        "     style=\"float: center; padding-bottom=0.5em\"\n",
        "     width=50%/>\n",
        "     <br>\n",
        "     Figure 2: Illustration of the Element Tree Hierarchy\n",
        "</div>\n",
        "\n",
        "* **Level 1**: The root element, which is a \"catalog\" for the sample XML file.\n",
        "* **Level 2**: The books that can be found in the catalog\n",
        "* **Level 3**: The attributes associated with each book"
      ]
    },
    {
      "cell_type": "code",
      "metadata": {
        "scrolled": true,
        "id": "zRW1sp5KgMCj",
        "outputId": "65736742-acf5-40a8-ca19-29636a7ba066"
      },
      "source": [
        "# Print child tags and atributes associated with the root XML tag: \"catalog\"\n",
        "for child in xroot:\n",
        "    print(child.tag, child.attrib)\n",
        "    for grandchild in child:\n",
        "        print('\\t', grandchild.tag, grandchild.text)"
      ],
      "execution_count": null,
      "outputs": [
        {
          "name": "stdout",
          "output_type": "stream",
          "text": [
            "book {'id': 'bk101'}\n",
            "\t author Gambardella, Matthew\n",
            "\t title XML Developer's Guide\n",
            "\t genre Computer\n",
            "\t price 44.95\n",
            "\t publish_date 2000-10-01\n",
            "\t description An in-depth look at creating applications \n",
            "      with XML.\n",
            "book {'id': 'bk102'}\n",
            "\t author Ralls, Kim\n",
            "\t title Midnight Rain\n",
            "\t genre Fantasy\n",
            "\t price 5.95\n",
            "\t publish_date 2000-12-16\n",
            "\t description A former architect battles corporate zombies, \n",
            "      an evil sorceress, and her own childhood to become queen \n",
            "      of the world.\n",
            "book {'id': 'bk103'}\n",
            "\t author Corets, Eva\n",
            "\t title Maeve Ascendant\n",
            "\t genre Fantasy\n",
            "\t price 5.95\n",
            "\t publish_date 2000-11-17\n",
            "\t description After the collapse of a nanotechnology \n",
            "      society in England, the young survivors lay the \n",
            "      foundation for a new society.\n",
            "book {'id': 'bk104'}\n",
            "\t author Corets, Eva\n",
            "\t title Oberon's Legacy\n",
            "\t genre Fantasy\n",
            "\t price 5.95\n",
            "\t publish_date 2001-03-10\n",
            "\t description In post-apocalypse England, the mysterious \n",
            "      agent known only as Oberon helps to create a new life \n",
            "      for the inhabitants of London. Sequel to Maeve \n",
            "      Ascendant.\n",
            "book {'id': 'bk105'}\n",
            "\t author Corets, Eva\n",
            "\t title The Sundered Grail\n",
            "\t genre Fantasy\n",
            "\t price 5.95\n",
            "\t publish_date 2001-09-10\n",
            "\t description The two daughters of Maeve, half-sisters, \n",
            "      battle one another for control of England. Sequel to \n",
            "      Oberon's Legacy.\n",
            "book {'id': 'bk106'}\n",
            "\t author Randall, Cynthia\n",
            "\t title Lover Birds\n",
            "\t genre Romance\n",
            "\t price 4.95\n",
            "\t publish_date 2000-09-02\n",
            "\t description When Carla meets Paul at an ornithology \n",
            "      conference, tempers fly as feathers get ruffled.\n",
            "book {'id': 'bk107'}\n",
            "\t author Thurman, Paula\n",
            "\t title Splish Splash\n",
            "\t genre Romance\n",
            "\t price 4.95\n",
            "\t publish_date 2000-11-02\n",
            "\t description A deep sea diver finds true love twenty \n",
            "      thousand leagues beneath the sea.\n",
            "book {'id': 'bk108'}\n",
            "\t author Knorr, Stefan\n",
            "\t title Creepy Crawlies\n",
            "\t genre Horror\n",
            "\t price 4.95\n",
            "\t publish_date 2000-12-06\n",
            "\t description An anthology of horror stories about roaches,\n",
            "      centipedes, scorpions  and other insects.\n",
            "book {'id': 'bk109'}\n",
            "\t author Kress, Peter\n",
            "\t title Paradox Lost\n",
            "\t genre Science Fiction\n",
            "\t price 6.95\n",
            "\t publish_date 2000-11-02\n",
            "\t description After an inadvertant trip through a Heisenberg\n",
            "      Uncertainty Device, James Salway discovers the problems \n",
            "      of being quantum.\n",
            "book {'id': 'bk110'}\n",
            "\t author O'Brien, Tim\n",
            "\t title Microsoft .NET: The Programming Bible\n",
            "\t genre Computer\n",
            "\t price 36.95\n",
            "\t publish_date 2000-12-09\n",
            "\t description Microsoft's .NET initiative is explored in \n",
            "      detail in this deep programmer's reference.\n",
            "book {'id': 'bk111'}\n",
            "\t author O'Brien, Tim\n",
            "\t title MSXML3: A Comprehensive Guide\n",
            "\t genre Computer\n",
            "\t price 36.95\n",
            "\t publish_date 2000-12-01\n",
            "\t description The Microsoft MSXML3 parser is covered in \n",
            "      detail, with attention to XML DOM interfaces, XSLT processing, \n",
            "      SAX and more.\n",
            "book {'id': 'bk112'}\n",
            "\t author Galos, Mike\n",
            "\t title Visual Studio 7: A Comprehensive Guide\n",
            "\t genre Computer\n",
            "\t price 49.95\n",
            "\t publish_date 2001-04-16\n",
            "\t description Microsoft Visual Studio 7 is explored in depth,\n",
            "      looking at how Visual Basic, Visual C++, C#, and ASP+ are \n",
            "      integrated into a comprehensive development \n",
            "      environment.\n"
          ]
        }
      ]
    },
    {
      "cell_type": "markdown",
      "metadata": {
        "id": "ioCDmwt-gMCk"
      },
      "source": [
        "## Extract XML content\n",
        "\n",
        "In the previous sections we've loaded and parsed the XML file to create the `ElementTree` object. Now that we've seen how the data is stored, we can extract it from the data structure and present it in a tabular format. To achieve this, in the below cell we will specify the columns of our table to match the attributes that are found in the tree structure."
      ]
    },
    {
      "cell_type": "code",
      "metadata": {
        "id": "8xs4-tYUgMCk"
      },
      "source": [
        "df_cols = [\"id\", \n",
        "           \"author\", \n",
        "           \"title\", \n",
        "           \"genre\", \n",
        "           \"price\", \n",
        "           \"publish_date\", \n",
        "           \"description\"]"
      ],
      "execution_count": null,
      "outputs": []
    },
    {
      "cell_type": "markdown",
      "metadata": {
        "id": "ZqVLyqItgMCk"
      },
      "source": [
        "Next, we need to define the structure of the raw pandas dataframe. We will use a list of dictionaries to build the dataframe, where each dictionary in the list will represent a single record or row of data. Once we have it arranged in this format, we will make use of the `pd.DataFrame()` function call to convert the list of dictionaries into a dataframe.\n"
      ]
    },
    {
      "cell_type": "code",
      "metadata": {
        "id": "bCagzKg3gMCl"
      },
      "source": [
        "# Initialising an empty list of rows to store the data\n",
        "rows = []\n",
        "# Now we loop through each \"node/element\" in the xroot object.\n",
        "for node in xroot:\n",
        "    # for each \"node\" we look for a specific tag using the .get() method\n",
        "    b_id = node.attrib.get(df_cols[0])\n",
        "    # We have also added a check to add \"None\" in cases where data is missing\n",
        "    b_author = node.find(df_cols[1]).text if node is not None else None\n",
        "    b_title = node.find(df_cols[2]).text if node is not None else None\n",
        "    b_genre = node.find(df_cols[3]).text if node is not None else None\n",
        "    b_price = node.find(df_cols[4]).text if node is not None else None\n",
        "    b_publish_date = node.find(df_cols[5]).text if node is not None else None\n",
        "    b_description = node.find(df_cols[6]).text if node is not None else None\n",
        "    \n",
        "    # Lastly we append each of the nodes in a dictionary format to start creating our dataframe.\n",
        "    rows.append({\n",
        "            df_cols[0]: b_id,\n",
        "            df_cols[1]: b_author,\n",
        "            df_cols[2]: b_title,\n",
        "            df_cols[3]: b_genre,\n",
        "            df_cols[4]: b_price,\n",
        "            df_cols[5]: b_publish_date,\n",
        "            df_cols[6]: b_description\n",
        "        })"
      ],
      "execution_count": null,
      "outputs": []
    },
    {
      "cell_type": "markdown",
      "metadata": {
        "id": "TrAAHgSygMCl"
      },
      "source": [
        "Let's print out the row to check that the data is in the correct format"
      ]
    },
    {
      "cell_type": "code",
      "metadata": {
        "scrolled": true,
        "id": "--yTbfHTgMCl",
        "outputId": "8cdb14ae-0e53-4e20-d5d4-6de4d9e8bbdb"
      },
      "source": [
        "# Print out rows to check that the data is in the correct format.\n",
        "i = 0\n",
        "for row in rows:\n",
        "    i += 1\n",
        "    print('Row '+ str(i)+' -->',row, '\\n')"
      ],
      "execution_count": null,
      "outputs": [
        {
          "name": "stdout",
          "output_type": "stream",
          "text": [
            "Row 1 --> {'id': 'bk101', 'author': 'Gambardella, Matthew', 'title': \"XML Developer's Guide\", 'genre': 'Computer', 'price': '44.95', 'publish_date': '2000-10-01', 'description': 'An in-depth look at creating applications \\n      with XML.'} \n",
            "\n",
            "Row 2 --> {'id': 'bk102', 'author': 'Ralls, Kim', 'title': 'Midnight Rain', 'genre': 'Fantasy', 'price': '5.95', 'publish_date': '2000-12-16', 'description': 'A former architect battles corporate zombies, \\n      an evil sorceress, and her own childhood to become queen \\n      of the world.'} \n",
            "\n",
            "Row 3 --> {'id': 'bk103', 'author': 'Corets, Eva', 'title': 'Maeve Ascendant', 'genre': 'Fantasy', 'price': '5.95', 'publish_date': '2000-11-17', 'description': 'After the collapse of a nanotechnology \\n      society in England, the young survivors lay the \\n      foundation for a new society.'} \n",
            "\n",
            "Row 4 --> {'id': 'bk104', 'author': 'Corets, Eva', 'title': \"Oberon's Legacy\", 'genre': 'Fantasy', 'price': '5.95', 'publish_date': '2001-03-10', 'description': 'In post-apocalypse England, the mysterious \\n      agent known only as Oberon helps to create a new life \\n      for the inhabitants of London. Sequel to Maeve \\n      Ascendant.'} \n",
            "\n",
            "Row 5 --> {'id': 'bk105', 'author': 'Corets, Eva', 'title': 'The Sundered Grail', 'genre': 'Fantasy', 'price': '5.95', 'publish_date': '2001-09-10', 'description': \"The two daughters of Maeve, half-sisters, \\n      battle one another for control of England. Sequel to \\n      Oberon's Legacy.\"} \n",
            "\n",
            "Row 6 --> {'id': 'bk106', 'author': 'Randall, Cynthia', 'title': 'Lover Birds', 'genre': 'Romance', 'price': '4.95', 'publish_date': '2000-09-02', 'description': 'When Carla meets Paul at an ornithology \\n      conference, tempers fly as feathers get ruffled.'} \n",
            "\n",
            "Row 7 --> {'id': 'bk107', 'author': 'Thurman, Paula', 'title': 'Splish Splash', 'genre': 'Romance', 'price': '4.95', 'publish_date': '2000-11-02', 'description': 'A deep sea diver finds true love twenty \\n      thousand leagues beneath the sea.'} \n",
            "\n",
            "Row 8 --> {'id': 'bk108', 'author': 'Knorr, Stefan', 'title': 'Creepy Crawlies', 'genre': 'Horror', 'price': '4.95', 'publish_date': '2000-12-06', 'description': 'An anthology of horror stories about roaches,\\n      centipedes, scorpions  and other insects.'} \n",
            "\n",
            "Row 9 --> {'id': 'bk109', 'author': 'Kress, Peter', 'title': 'Paradox Lost', 'genre': 'Science Fiction', 'price': '6.95', 'publish_date': '2000-11-02', 'description': 'After an inadvertant trip through a Heisenberg\\n      Uncertainty Device, James Salway discovers the problems \\n      of being quantum.'} \n",
            "\n",
            "Row 10 --> {'id': 'bk110', 'author': \"O'Brien, Tim\", 'title': 'Microsoft .NET: The Programming Bible', 'genre': 'Computer', 'price': '36.95', 'publish_date': '2000-12-09', 'description': \"Microsoft's .NET initiative is explored in \\n      detail in this deep programmer's reference.\"} \n",
            "\n",
            "Row 11 --> {'id': 'bk111', 'author': \"O'Brien, Tim\", 'title': 'MSXML3: A Comprehensive Guide', 'genre': 'Computer', 'price': '36.95', 'publish_date': '2000-12-01', 'description': 'The Microsoft MSXML3 parser is covered in \\n      detail, with attention to XML DOM interfaces, XSLT processing, \\n      SAX and more.'} \n",
            "\n",
            "Row 12 --> {'id': 'bk112', 'author': 'Galos, Mike', 'title': 'Visual Studio 7: A Comprehensive Guide', 'genre': 'Computer', 'price': '49.95', 'publish_date': '2001-04-16', 'description': 'Microsoft Visual Studio 7 is explored in depth,\\n      looking at how Visual Basic, Visual C++, C#, and ASP+ are \\n      integrated into a comprehensive development \\n      environment.'} \n",
            "\n"
          ]
        }
      ]
    },
    {
      "cell_type": "markdown",
      "metadata": {
        "id": "herPVYmHgMCl"
      },
      "source": [
        "---\n",
        "## \\[Challenge\\] - Putting it all together\n",
        "\n",
        "As an exercise to test your understanding of the concepts that we've covered thus far, create a fuction that is able to take our XML file and column names as input, and return a pandas `DataFrame` object containing the XML element tree data in a tabular form.  \n",
        "\n",
        "To help you in this process, we've provided a function definition for you to complete in the code cell below:"
      ]
    },
    {
      "cell_type": "code",
      "metadata": {
        "id": "WiHrFHm7gMCl"
      },
      "source": [
        "def parse_xml_v1(xml_file: str, df_cols: list):\n",
        "    \"\"\"Extract data from an XML file and store it in a tabular form \n",
        "\n",
        "    Args:\n",
        "        xml_file (str): Path to XML file\n",
        "        df_cols (list): Field names to capture from the XML\n",
        "\n",
        "    Returns:\n",
        "        pandas.DataFrame: The XML data data stored in a tabular format.\n",
        "    \"\"\"\n",
        "\n",
        "    # INSERT YOUR CODE HERE\n",
        "\n",
        "    return out_df"
      ],
      "execution_count": null,
      "outputs": []
    },
    {
      "cell_type": "markdown",
      "metadata": {
        "id": "Y_dz2pVJgMCm"
      },
      "source": [
        "We'll now call the function that you've created in the previous cell to transform the XML file into a pandas dataframe."
      ]
    },
    {
      "cell_type": "code",
      "metadata": {
        "id": "ChQozIXigMCm",
        "outputId": "9a9d90b7-a8b2-4d74-ed63-9a9b09818244"
      },
      "source": [
        "df = parse_xml_v1(file_path, df_cols)\n",
        "df"
      ],
      "execution_count": null,
      "outputs": [
        {
          "data": {
            "text/html": [
              "<div>\n",
              "<style scoped>\n",
              "    .dataframe tbody tr th:only-of-type {\n",
              "        vertical-align: middle;\n",
              "    }\n",
              "\n",
              "    .dataframe tbody tr th {\n",
              "        vertical-align: top;\n",
              "    }\n",
              "\n",
              "    .dataframe thead th {\n",
              "        text-align: right;\n",
              "    }\n",
              "</style>\n",
              "<table border=\"1\" class=\"dataframe\">\n",
              "  <thead>\n",
              "    <tr style=\"text-align: right;\">\n",
              "      <th></th>\n",
              "      <th>id</th>\n",
              "      <th>author</th>\n",
              "      <th>title</th>\n",
              "      <th>genre</th>\n",
              "      <th>price</th>\n",
              "      <th>publish_date</th>\n",
              "      <th>description</th>\n",
              "    </tr>\n",
              "  </thead>\n",
              "  <tbody>\n",
              "    <tr>\n",
              "      <th>0</th>\n",
              "      <td>bk101</td>\n",
              "      <td>Gambardella, Matthew</td>\n",
              "      <td>XML Developer's Guide</td>\n",
              "      <td>Computer</td>\n",
              "      <td>44.95</td>\n",
              "      <td>2000-10-01</td>\n",
              "      <td>An in-depth look at creating applications \\n  ...</td>\n",
              "    </tr>\n",
              "    <tr>\n",
              "      <th>1</th>\n",
              "      <td>bk102</td>\n",
              "      <td>Ralls, Kim</td>\n",
              "      <td>Midnight Rain</td>\n",
              "      <td>Fantasy</td>\n",
              "      <td>5.95</td>\n",
              "      <td>2000-12-16</td>\n",
              "      <td>A former architect battles corporate zombies, ...</td>\n",
              "    </tr>\n",
              "    <tr>\n",
              "      <th>2</th>\n",
              "      <td>bk103</td>\n",
              "      <td>Corets, Eva</td>\n",
              "      <td>Maeve Ascendant</td>\n",
              "      <td>Fantasy</td>\n",
              "      <td>5.95</td>\n",
              "      <td>2000-11-17</td>\n",
              "      <td>After the collapse of a nanotechnology \\n     ...</td>\n",
              "    </tr>\n",
              "    <tr>\n",
              "      <th>3</th>\n",
              "      <td>bk104</td>\n",
              "      <td>Corets, Eva</td>\n",
              "      <td>Oberon's Legacy</td>\n",
              "      <td>Fantasy</td>\n",
              "      <td>5.95</td>\n",
              "      <td>2001-03-10</td>\n",
              "      <td>In post-apocalypse England, the mysterious \\n ...</td>\n",
              "    </tr>\n",
              "    <tr>\n",
              "      <th>4</th>\n",
              "      <td>bk105</td>\n",
              "      <td>Corets, Eva</td>\n",
              "      <td>The Sundered Grail</td>\n",
              "      <td>Fantasy</td>\n",
              "      <td>5.95</td>\n",
              "      <td>2001-09-10</td>\n",
              "      <td>The two daughters of Maeve, half-sisters, \\n  ...</td>\n",
              "    </tr>\n",
              "    <tr>\n",
              "      <th>5</th>\n",
              "      <td>bk106</td>\n",
              "      <td>Randall, Cynthia</td>\n",
              "      <td>Lover Birds</td>\n",
              "      <td>Romance</td>\n",
              "      <td>4.95</td>\n",
              "      <td>2000-09-02</td>\n",
              "      <td>When Carla meets Paul at an ornithology \\n    ...</td>\n",
              "    </tr>\n",
              "    <tr>\n",
              "      <th>6</th>\n",
              "      <td>bk107</td>\n",
              "      <td>Thurman, Paula</td>\n",
              "      <td>Splish Splash</td>\n",
              "      <td>Romance</td>\n",
              "      <td>4.95</td>\n",
              "      <td>2000-11-02</td>\n",
              "      <td>A deep sea diver finds true love twenty \\n    ...</td>\n",
              "    </tr>\n",
              "    <tr>\n",
              "      <th>7</th>\n",
              "      <td>bk108</td>\n",
              "      <td>Knorr, Stefan</td>\n",
              "      <td>Creepy Crawlies</td>\n",
              "      <td>Horror</td>\n",
              "      <td>4.95</td>\n",
              "      <td>2000-12-06</td>\n",
              "      <td>An anthology of horror stories about roaches,\\...</td>\n",
              "    </tr>\n",
              "    <tr>\n",
              "      <th>8</th>\n",
              "      <td>bk109</td>\n",
              "      <td>Kress, Peter</td>\n",
              "      <td>Paradox Lost</td>\n",
              "      <td>Science Fiction</td>\n",
              "      <td>6.95</td>\n",
              "      <td>2000-11-02</td>\n",
              "      <td>After an inadvertant trip through a Heisenberg...</td>\n",
              "    </tr>\n",
              "    <tr>\n",
              "      <th>9</th>\n",
              "      <td>bk110</td>\n",
              "      <td>O'Brien, Tim</td>\n",
              "      <td>Microsoft .NET: The Programming Bible</td>\n",
              "      <td>Computer</td>\n",
              "      <td>36.95</td>\n",
              "      <td>2000-12-09</td>\n",
              "      <td>Microsoft's .NET initiative is explored in \\n ...</td>\n",
              "    </tr>\n",
              "    <tr>\n",
              "      <th>10</th>\n",
              "      <td>bk111</td>\n",
              "      <td>O'Brien, Tim</td>\n",
              "      <td>MSXML3: A Comprehensive Guide</td>\n",
              "      <td>Computer</td>\n",
              "      <td>36.95</td>\n",
              "      <td>2000-12-01</td>\n",
              "      <td>The Microsoft MSXML3 parser is covered in \\n  ...</td>\n",
              "    </tr>\n",
              "    <tr>\n",
              "      <th>11</th>\n",
              "      <td>bk112</td>\n",
              "      <td>Galos, Mike</td>\n",
              "      <td>Visual Studio 7: A Comprehensive Guide</td>\n",
              "      <td>Computer</td>\n",
              "      <td>49.95</td>\n",
              "      <td>2001-04-16</td>\n",
              "      <td>Microsoft Visual Studio 7 is explored in depth...</td>\n",
              "    </tr>\n",
              "  </tbody>\n",
              "</table>\n",
              "</div>"
            ],
            "text/plain": [
              "       id                author                                   title  \\\n",
              "0   bk101  Gambardella, Matthew                   XML Developer's Guide   \n",
              "1   bk102            Ralls, Kim                           Midnight Rain   \n",
              "2   bk103           Corets, Eva                         Maeve Ascendant   \n",
              "3   bk104           Corets, Eva                         Oberon's Legacy   \n",
              "4   bk105           Corets, Eva                      The Sundered Grail   \n",
              "5   bk106      Randall, Cynthia                             Lover Birds   \n",
              "6   bk107        Thurman, Paula                           Splish Splash   \n",
              "7   bk108         Knorr, Stefan                         Creepy Crawlies   \n",
              "8   bk109          Kress, Peter                            Paradox Lost   \n",
              "9   bk110          O'Brien, Tim   Microsoft .NET: The Programming Bible   \n",
              "10  bk111          O'Brien, Tim           MSXML3: A Comprehensive Guide   \n",
              "11  bk112           Galos, Mike  Visual Studio 7: A Comprehensive Guide   \n",
              "\n",
              "              genre  price publish_date  \\\n",
              "0          Computer  44.95   2000-10-01   \n",
              "1           Fantasy   5.95   2000-12-16   \n",
              "2           Fantasy   5.95   2000-11-17   \n",
              "3           Fantasy   5.95   2001-03-10   \n",
              "4           Fantasy   5.95   2001-09-10   \n",
              "5           Romance   4.95   2000-09-02   \n",
              "6           Romance   4.95   2000-11-02   \n",
              "7            Horror   4.95   2000-12-06   \n",
              "8   Science Fiction   6.95   2000-11-02   \n",
              "9          Computer  36.95   2000-12-09   \n",
              "10         Computer  36.95   2000-12-01   \n",
              "11         Computer  49.95   2001-04-16   \n",
              "\n",
              "                                          description  \n",
              "0   An in-depth look at creating applications \\n  ...  \n",
              "1   A former architect battles corporate zombies, ...  \n",
              "2   After the collapse of a nanotechnology \\n     ...  \n",
              "3   In post-apocalypse England, the mysterious \\n ...  \n",
              "4   The two daughters of Maeve, half-sisters, \\n  ...  \n",
              "5   When Carla meets Paul at an ornithology \\n    ...  \n",
              "6   A deep sea diver finds true love twenty \\n    ...  \n",
              "7   An anthology of horror stories about roaches,\\...  \n",
              "8   After an inadvertant trip through a Heisenberg...  \n",
              "9   Microsoft's .NET initiative is explored in \\n ...  \n",
              "10  The Microsoft MSXML3 parser is covered in \\n  ...  \n",
              "11  Microsoft Visual Studio 7 is explored in depth...  "
            ]
          },
          "execution_count": 13,
          "metadata": {},
          "output_type": "execute_result"
        }
      ]
    },
    {
      "cell_type": "markdown",
      "metadata": {
        "id": "N1WvXpXfgMCm"
      },
      "source": [
        "If successful, you should see the above output from your function.\n",
        "\n",
        "---"
      ]
    },
    {
      "cell_type": "markdown",
      "metadata": {
        "id": "RvQSlPI-gMCm"
      },
      "source": [
        "## Conclusion\n",
        "\n",
        "In this exercise, we have learned to load and parse an XML file using the `ElementTree` library. The library creates a tree object in memory and allows us to traverse the data in a hierarchical manner. This means we can traverse the data from the root nodes to the leaf nodes and restructure it. In our case, we've learned how to read the tree structure and transform the data into a tabular format - making the data more human-readable.  Once the data is in a tabular format, it becomes easier to store in relational databases.\n",
        "\n",
        "## Appendix\n",
        "\n",
        "\n",
        "[The ElementTree XML API](https://docs.python.org/3/library/xml.etree.elementtree.html)"
      ]
    },
    {
      "cell_type": "markdown",
      "metadata": {
        "id": "yz79meB8gMCm"
      },
      "source": [
        "### Challenge model solution\n",
        "\n",
        "The full solution to the `parse_xml_v1` function is given below. Please only consult this code once you've given sufficient effort in completing the challenge on your own!"
      ]
    },
    {
      "cell_type": "code",
      "metadata": {
        "id": "rrfCtA22gMCm"
      },
      "source": [
        "def parse_xml_v1(xml_file: str, df_cols: list):\n",
        "    \"\"\"Extract data from an XML file and store it in a tabular form \n",
        "\n",
        "    Args:\n",
        "        xml_file (str): Path to XML file\n",
        "        df_cols (list): Field names to capture from the XML\n",
        "\n",
        "    Returns:\n",
        "        pandas.DataFrame: The XML data data stored in a tabular format.\n",
        "    \"\"\"\n",
        "    xtree = ET.parse(xml_file)\n",
        "    xroot = xtree.getroot()\n",
        "    rows = []\n",
        "    \n",
        "    for node in xroot:\n",
        "        b_id = node.attrib.get(df_cols[0])\n",
        "        b_author = node.find(df_cols[1]).text if node is not None else None\n",
        "        b_title = node.find(df_cols[2]).text if node is not None else None\n",
        "        b_genre = node.find(df_cols[3]).text if node is not None else None\n",
        "        b_price = node.find(df_cols[4]).text if node is not None else None\n",
        "        b_publish_date = node.find(df_cols[5]).text if node is not None else None\n",
        "        b_description = node.find(df_cols[6]).text if node is not None else None\n",
        "        \n",
        "        rows.append({\n",
        "            df_cols[0]: b_id,\n",
        "            df_cols[1]: b_author,\n",
        "            df_cols[2]: b_title,\n",
        "            df_cols[3]: b_genre,\n",
        "            df_cols[4]: b_price,\n",
        "            df_cols[5]: b_publish_date,\n",
        "            df_cols[6]: b_description\n",
        "        })\n",
        "        \n",
        "        # Here we specify the source and the schema of our dataframe.\n",
        "        out_df = pd.DataFrame(rows, columns = df_cols)\n",
        "    return out_df"
      ],
      "execution_count": null,
      "outputs": []
    }
  ]
}